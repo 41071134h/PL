{
 "cells": [
  {
   "cell_type": "code",
   "execution_count": 1,
   "id": "390c9c3d",
   "metadata": {},
   "outputs": [],
   "source": [
    "import json"
   ]
  },
  {
   "cell_type": "code",
   "execution_count": 2,
   "id": "28db2b8c",
   "metadata": {},
   "outputs": [
    {
     "data": {
      "text/plain": [
       "dict"
      ]
     },
     "execution_count": 2,
     "metadata": {},
     "output_type": "execute_result"
    }
   ],
   "source": [
    "#匯入json檔案，存入dict中\n",
    "#此為nba總得分前25人的數據\n",
    "player = open('player.json',encoding=\"utf8\")\n",
    "Data = json.load(player)\n",
    "type(Data)"
   ]
  },
  {
   "cell_type": "code",
   "execution_count": 10,
   "id": "b2b48d6d",
   "metadata": {},
   "outputs": [
    {
     "data": {
      "text/plain": [
       "dict_items([('MEMBERS', [{'PLAYER': 'Kareem Abdul-Jabbar', 'GP': '1,560', 'MIN': '57446', 'PTS': '38387', 'FGM': '15837', 'FGA': '28307', 'FG%': '55.9', '3PM': '1', '3PA': '18', '3P%': '5.6', 'FTM': '6712', 'FTA': '9304', 'FT%': '72.1', 'OREB': '2975', 'DREB': '9394', 'REB': '17440', 'AST': '5660', 'STL': '1160', 'BLK': '3189', 'TOV': '2527', 'EFG%': '55.9', 'TS%': '59.2'}, {'PLAYER': 'LeBron James', 'GP': '1,366', 'MIN': '52138', 'PTS': '37062', 'FGM': '13543', 'FGA': '26825', 'FG%': '50.5', '3PM': '2140', '3PA': '6186', '3P%': '34.6', 'FTM': '7836', 'FTA': '10673', 'FT%': '73.4', 'OREB': '1601', 'DREB': '8609', 'REB': '10210', 'AST': '10045', 'STL': '2136', 'BLK': '1041', 'TOV': '4788', 'EFG%': '54.5', 'TS%': '58.8'}, {'PLAYER': 'Karl Malone', 'GP': '1,476', 'MIN': '54852', 'PTS': '36928', 'FGM': '13528', 'FGA': '26210', 'FG%': '51.6', '3PM': '85', '3PA': '310', '3P%': '27.4', 'FTM': '9787', 'FTA': '13188', 'FT%': '74.2', 'OREB': '3562', 'DREB': '11406', 'REB': '14968', 'AST': '5248', 'STL': '2085', 'BLK': '1145', 'TOV': '4524', 'EFG%': '51.8', 'TS%': '57.7'}, {'PLAYER': 'Kobe Bryant', 'GP': '1,346', 'MIN': '48643', 'PTS': '33643', 'FGM': '11719', 'FGA': '26200', 'FG%': '44.7', '3PM': '1827', '3PA': '5546', '3P%': '32.9', 'FTM': '8378', 'FTA': '10011', 'FT%': '83.7', 'OREB': '1499', 'DREB': '5548', 'REB': '7047', 'AST': '6306', 'STL': '1944', 'BLK': '640', 'TOV': '4010', 'EFG%': '48.2', 'TS%': '55'}, {'PLAYER': 'Michael Jordan', 'GP': '1,072', 'MIN': '41010', 'PTS': '32292', 'FGM': '12192', 'FGA': '24537', 'FG%': '49.7', '3PM': '581', '3PA': '1778', '3P%': '32.7', 'FTM': '7327', 'FTA': '8772', 'FT%': '83.5', 'OREB': '1668', 'DREB': '5004', 'REB': '6672', 'AST': '5633', 'STL': '2514', 'BLK': '893', 'TOV': '2924', 'EFG%': '50.9', 'TS%': '56.9'}, {'PLAYER': 'Dirk Nowitzki', 'GP': '1,522', 'MIN': '51367', 'PTS': '31560', 'FGM': '11169', 'FGA': '23734', 'FG%': '47.1', '3PM': '1982', '3PA': '5210', '3P%': '38', 'FTM': '7240', 'FTA': '8239', 'FT%': '87.9', 'OREB': '1468', 'DREB': '10021', 'REB': '11489', 'AST': '3651', 'STL': '1210', 'BLK': '1281', 'TOV': '2494', 'EFG%': '51.2', 'TS%': '57.7'}, {'PLAYER': 'Wilt Chamberlain', 'GP': '1,045', 'MIN': '47859', 'PTS': '31419', 'FGM': '12681', 'FGA': '23497', 'FG%': '54', '3PM': '-', '3PA': '-', '3P%': '-', 'FTM': '6057', 'FTA': '11862', 'FT%': '51.1', 'OREB': '-', 'DREB': '-', 'REB': '23924', 'AST': '4643', 'STL': '-', 'BLK': '-', 'TOV': '-', 'EFG%': '54', 'TS%': '54.7'}, {'PLAYER': \"Shaquille O'Neal\", 'GP': '1,207', 'MIN': '41917', 'PTS': '28596', 'FGM': '11330', 'FGA': '19457', 'FG%': '58.2', '3PM': '1', '3PA': '22', '3P%': '4.5', 'FTM': '5935', 'FTA': '11252', 'FT%': '52.7', 'OREB': '4209', 'DREB': '8890', 'REB': '13099', 'AST': '3026', 'STL': '739', 'BLK': '2732', 'TOV': '3310', 'EFG%': '58.2', 'TS%': '58.6'}, {'PLAYER': 'Carmelo Anthony', 'GP': '1,260', 'MIN': '43513', 'PTS': '28289', 'FGM': '10119', 'FGA': '22643', 'FG%': '44.7', '3PM': '1731', '3PA': '4873', '3P%': '35.5', 'FTM': '6320', 'FTA': '7764', 'FT%': '81.4', 'OREB': '1983', 'DREB': '5825', 'REB': '7808', 'AST': '3422', 'STL': '1223', 'BLK': '644', 'TOV': '3052', 'EFG%': '48.5', 'TS%': '54.3'}, {'PLAYER': 'Moses Malone', 'GP': '1,329', 'MIN': '45071', 'PTS': '27409', 'FGM': '9435', 'FGA': '19225', 'FG%': '49.1', '3PM': '8', '3PA': '80', '3P%': '10', 'FTM': '8531', 'FTA': '11090', 'FT%': '76.9', 'OREB': '6731', 'DREB': '9481', 'REB': '16212', 'AST': '1796', 'STL': '1089', 'BLK': '1733', 'TOV': '3804', 'EFG%': '49.1', 'TS%': '56.9'}, {'PLAYER': 'Elvin Hayes', 'GP': '1,303', 'MIN': '50000', 'PTS': '27313', 'FGM': '10976', 'FGA': '24272', 'FG%': '45.2', '3PM': '5', '3PA': '34', '3P%': '14.7', 'FTM': '5356', 'FTA': '7999', 'FT%': '67', 'OREB': '2778', 'DREB': '6973', 'REB': '16279', 'AST': '2398', 'STL': '864', 'BLK': '1771', 'TOV': '1358', 'EFG%': '45.2', 'TS%': '49.1'}, {'PLAYER': 'Hakeem Olajuwon', 'GP': '1,238', 'MIN': '44218', 'PTS': '26946', 'FGM': '10749', 'FGA': '20991', 'FG%': '51.2', '3PM': '25', '3PA': '124', '3P%': '20.2', 'FTM': '5423', 'FTA': '7621', 'FT%': '71.2', 'OREB': '4034', 'DREB': '9714', 'REB': '13748', 'AST': '3058', 'STL': '2162', 'BLK': '3830', 'TOV': '3667', 'EFG%': '51.3', 'TS%': '55.3'}, {'PLAYER': 'Oscar Robertson', 'GP': '1,040', 'MIN': '43886', 'PTS': '26710', 'FGM': '9508', 'FGA': '19620', 'FG%': '48.5', '3PM': '-', '3PA': '-', '3P%': '-', 'FTM': '7694', 'FTA': '9185', 'FT%': '83.8', 'OREB': '71', 'DREB': '208', 'REB': '7804', 'AST': '9887', 'STL': '77', 'BLK': '4', 'TOV': '-', 'EFG%': '48.5', 'TS%': '56.4'}, {'PLAYER': 'Dominique Wilkins', 'GP': '1,074', 'MIN': '38115', 'PTS': '26668', 'FGM': '9963', 'FGA': '21589', 'FG%': '46.1', '3PM': '711', '3PA': '2231', '3P%': '31.9', 'FTM': '6031', 'FTA': '7438', 'FT%': '81.1', 'OREB': '2950', 'DREB': '4219', 'REB': '7169', 'AST': '2677', 'STL': '1378', 'BLK': '642', 'TOV': '2669', 'EFG%': '47.8', 'TS%': '53.6'}, {'PLAYER': 'Tim Duncan', 'GP': '1,392', 'MIN': '47367', 'PTS': '26496', 'FGM': '10285', 'FGA': '20334', 'FG%': '50.6', '3PM': '30', '3PA': '168', '3P%': '17.9', 'FTM': '5896', 'FTA': '8468', 'FT%': '69.6', 'OREB': '3859', 'DREB': '11232', 'REB': '15091', 'AST': '4225', 'STL': '1025', 'BLK': '3020', 'TOV': '3381', 'EFG%': '50.7', 'TS%': '55.1'}, {'PLAYER': 'Paul Pierce', 'GP': '1,343', 'MIN': '45879', 'PTS': '26397', 'FGM': '8668', 'FGA': '19465', 'FG%': '44.5', '3PM': '2143', '3PA': '5816', '3P%': '36.8', 'FTM': '6918', 'FTA': '8578', 'FT%': '80.6', 'OREB': '1092', 'DREB': '6435', 'REB': '7527', 'AST': '4708', 'STL': '1752', 'BLK': '745', 'TOV': '3532', 'EFG%': '50', 'TS%': '56.8'}, {'PLAYER': 'John Havlicek', 'GP': '1,270', 'MIN': '46471', 'PTS': '26395', 'FGM': '10513', 'FGA': '23930', 'FG%': '43.9', '3PM': '-', '3PA': '-', '3P%': '-', 'FTM': '5369', 'FTA': '6589', 'FT%': '81.5', 'OREB': '610', 'DREB': '1389', 'REB': '8007', 'AST': '6114', 'STL': '476', 'BLK': '117', 'TOV': '204', 'EFG%': '43.9', 'TS%': '49.2'}, {'PLAYER': 'Kevin Garnett', 'GP': '1,462', 'MIN': '50412', 'PTS': '26071', 'FGM': '10505', 'FGA': '21142', 'FG%': '49.7', '3PM': '174', '3PA': '632', '3P%': '27.5', 'FTM': '4887', 'FTA': '6190', 'FT%': '78.9', 'OREB': '3209', 'DREB': '11453', 'REB': '14662', 'AST': '5445', 'STL': '1859', 'BLK': '2037', 'TOV': '3179', 'EFG%': '50.1', 'TS%': '54.6'}, {'PLAYER': 'Vince Carter', 'GP': '1,541', 'MIN': '46370', 'PTS': '25728', 'FGM': '9293', 'FGA': '21339', 'FG%': '43.5', '3PM': '2290', '3PA': '6168', '3P%': '37.1', 'FTM': '4852', 'FTA': '6082', 'FT%': '79.8', 'OREB': '1658', 'DREB': '4948', 'REB': '6606', 'AST': '4714', 'STL': '1530', 'BLK': '888', 'TOV': '2590', 'EFG%': '48.9', 'TS%': '53.6'}, {'PLAYER': 'Alex English', 'GP': '1,193', 'MIN': '38063', 'PTS': '25613', 'FGM': '10659', 'FGA': '21036', 'FG%': '50.7', '3PM': '18', '3PA': '83', '3P%': '21.7', 'FTM': '4277', 'FTA': '5141', 'FT%': '83.2', 'OREB': '2778', 'DREB': '3760', 'REB': '6538', 'AST': '4351', 'STL': '1067', 'BLK': '833', 'TOV': '2821', 'EFG%': '50.7', 'TS%': '55'}, {'PLAYER': 'Kevin Durant', 'GP': '939', 'MIN': '34509', 'PTS': '25526', 'FGM': '8716', 'FGA': '17577', 'FG%': '49.6', '3PM': '1770', '3PA': '4611', '3P%': '38.4', 'FTM': '6324', 'FTA': '7153', 'FT%': '88.4', 'OREB': '659', 'DREB': '5987', 'REB': '6646', 'AST': '4032', 'STL': '1021', 'BLK': '1038', 'TOV': '2964', 'EFG%': '54.6', 'TS%': '61.6'}, {'PLAYER': 'Reggie Miller', 'GP': '1,389', 'MIN': '47620', 'PTS': '25279', 'FGM': '8241', 'FGA': '17499', 'FG%': '47.1', '3PM': '2560', '3PA': '6486', '3P%': '39.5', 'FTM': '6237', 'FTA': '7026', 'FT%': '88.8', 'OREB': '883', 'DREB': '3299', 'REB': '4182', 'AST': '4141', 'STL': '1505', 'BLK': '299', 'TOV': '2409', 'EFG%': '54.4', 'TS%': '61.4'}, {'PLAYER': 'Jerry West', 'GP': '932', 'MIN': '36571', 'PTS': '25192', 'FGM': '9016', 'FGA': '19032', 'FG%': '47.4', '3PM': '-', '3PA': '-', '3P%': '-', 'FTM': '7160', 'FTA': '8801', 'FT%': '81.4', 'OREB': '30', 'DREB': '86', 'REB': '5376', 'AST': '6238', 'STL': '81', 'BLK': '23', 'TOV': '-', 'EFG%': '47.4', 'TS%': '55'}, {'PLAYER': 'Patrick Ewing', 'GP': '1,183', 'MIN': '40594', 'PTS': '24815', 'FGM': '9702', 'FGA': '19241', 'FG%': '50.4', '3PM': '19', '3PA': '125', '3P%': '15.2', 'FTM': '5392', 'FTA': '7289', 'FT%': '74', 'OREB': '2752', 'DREB': '8855', 'REB': '11607', 'AST': '2215', 'STL': '1136', 'BLK': '2894', 'TOV': '3537', 'EFG%': '50.5', 'TS%': '55.3'}, {'PLAYER': 'Ray Allen', 'GP': '1,300', 'MIN': '46350', 'PTS': '24505', 'FGM': '8567', 'FGA': '18955', 'FG%': '45.2', '3PM': '2973', '3PA': '7429', '3P%': '40', 'FTM': '4398', 'FTA': '4920', 'FT%': '89.4', 'OREB': '1230', 'DREB': '4042', 'REB': '5272', 'AST': '4361', 'STL': '1451', 'BLK': '244', 'TOV': '2709', 'EFG%': '53', 'TS%': '58'}])])"
      ]
     },
     "execution_count": 10,
     "metadata": {},
     "output_type": "execute_result"
    }
   ],
   "source": [
    "#列出所有資料\n",
    "Data.items()"
   ]
  },
  {
   "cell_type": "code",
   "execution_count": 11,
   "id": "314563f2",
   "metadata": {},
   "outputs": [],
   "source": [
    "temp = Data.get(\"MEMBERS\")"
   ]
  },
  {
   "cell_type": "code",
   "execution_count": 12,
   "id": "2179ccf9",
   "metadata": {},
   "outputs": [
    {
     "name": "stdout",
     "output_type": "stream",
     "text": [
      "請輸入想知道哪位球員的得分Kareem Abdul-Jabbar\n",
      "Kareem Abdul-Jabbar 的分數為 38387\n"
     ]
    }
   ],
   "source": [
    "#查詢球員之得分\n",
    "ask = input(\"請輸入想知道哪位球員的得分\")\n",
    "for i in temp:\n",
    "    if ask == i.get(\"PLAYER\"):\n",
    "        print(ask, \"的分數為\", i.get(\"PTS\"))"
   ]
  },
  {
   "cell_type": "code",
   "execution_count": 13,
   "id": "615b5e76",
   "metadata": {},
   "outputs": [
    {
     "data": {
      "text/plain": [
       "['57446',\n",
       " '52138',\n",
       " '54852',\n",
       " '48643',\n",
       " '41010',\n",
       " '51367',\n",
       " '47859',\n",
       " '41917',\n",
       " '43513',\n",
       " '45071',\n",
       " '50000',\n",
       " '44218',\n",
       " '43886',\n",
       " '38115',\n",
       " '47367',\n",
       " '45879',\n",
       " '46471',\n",
       " '50412',\n",
       " '46370',\n",
       " '38063',\n",
       " '34509',\n",
       " '47620',\n",
       " '36571',\n",
       " '40594',\n",
       " '46350']"
      ]
     },
     "execution_count": 13,
     "metadata": {},
     "output_type": "execute_result"
    }
   ],
   "source": [
    "#取得上場時間資料\n",
    "time = []\n",
    "for i in temp:\n",
    "    time.append(i.get(\"MIN\"))\n",
    "time"
   ]
  },
  {
   "cell_type": "code",
   "execution_count": 14,
   "id": "b422b8ee",
   "metadata": {},
   "outputs": [],
   "source": [
    "time_enumerate = enumerate(time, start = 1)"
   ]
  },
  {
   "cell_type": "code",
   "execution_count": 15,
   "id": "d06da773",
   "metadata": {},
   "outputs": [
    {
     "data": {
      "text/plain": [
       "[(21, '34509'),\n",
       " (23, '36571'),\n",
       " (20, '38063'),\n",
       " (14, '38115'),\n",
       " (24, '40594'),\n",
       " (5, '41010'),\n",
       " (8, '41917'),\n",
       " (9, '43513'),\n",
       " (13, '43886'),\n",
       " (12, '44218'),\n",
       " (10, '45071'),\n",
       " (16, '45879'),\n",
       " (25, '46350'),\n",
       " (19, '46370'),\n",
       " (17, '46471'),\n",
       " (15, '47367'),\n",
       " (22, '47620'),\n",
       " (7, '47859'),\n",
       " (4, '48643'),\n",
       " (11, '50000'),\n",
       " (18, '50412'),\n",
       " (6, '51367'),\n",
       " (2, '52138'),\n",
       " (3, '54852'),\n",
       " (1, '57446')]"
      ]
     },
     "execution_count": 15,
     "metadata": {},
     "output_type": "execute_result"
    }
   ],
   "source": [
    "#第幾項對應之上場時間，由小到大\n",
    "time_enumerate_sorted = sorted(time_enumerate, key = lambda s: s[1], reverse = False)\n",
    "time_enumerate_sorted"
   ]
  },
  {
   "cell_type": "code",
   "execution_count": 17,
   "id": "e6929c51",
   "metadata": {},
   "outputs": [
    {
     "name": "stdout",
     "output_type": "stream",
     "text": [
      "Kevin Durant 總共上場 34509 分鐘\n",
      "Jerry West 總共上場 36571 分鐘\n",
      "Alex English 總共上場 38063 分鐘\n",
      "Dominique Wilkins 總共上場 38115 分鐘\n",
      "Patrick Ewing 總共上場 40594 分鐘\n",
      "Michael Jordan 總共上場 41010 分鐘\n",
      "Shaquille O'Neal 總共上場 41917 分鐘\n",
      "Carmelo Anthony 總共上場 43513 分鐘\n",
      "Oscar Robertson 總共上場 43886 分鐘\n",
      "Hakeem Olajuwon 總共上場 44218 分鐘\n",
      "Moses Malone 總共上場 45071 分鐘\n",
      "Paul Pierce 總共上場 45879 分鐘\n",
      "Ray Allen 總共上場 46350 分鐘\n",
      "Vince Carter 總共上場 46370 分鐘\n",
      "John Havlicek 總共上場 46471 分鐘\n",
      "Tim Duncan 總共上場 47367 分鐘\n",
      "Reggie Miller 總共上場 47620 分鐘\n",
      "Wilt Chamberlain 總共上場 47859 分鐘\n",
      "Kobe Bryant 總共上場 48643 分鐘\n",
      "Elvin Hayes 總共上場 50000 分鐘\n",
      "Kevin Garnett 總共上場 50412 分鐘\n",
      "Dirk Nowitzki 總共上場 51367 分鐘\n",
      "LeBron James 總共上場 52138 分鐘\n",
      "Karl Malone 總共上場 54852 分鐘\n",
      "Kareem Abdul-Jabbar 總共上場 57446 分鐘\n"
     ]
    }
   ],
   "source": [
    "#印出排序過後的名字與上場時間\n",
    "for i in time_enumerate_sorted:\n",
    "    j = i[0] - 1\n",
    "    print(temp[j].get(\"PLAYER\"), \"總共上場\", temp[j].get(\"MIN\"), \"分鐘\")"
   ]
  },
  {
   "cell_type": "code",
   "execution_count": null,
   "id": "79efede8",
   "metadata": {},
   "outputs": [],
   "source": []
  }
 ],
 "metadata": {
  "kernelspec": {
   "display_name": "Python 3 (ipykernel)",
   "language": "python",
   "name": "python3"
  },
  "language_info": {
   "codemirror_mode": {
    "name": "ipython",
    "version": 3
   },
   "file_extension": ".py",
   "mimetype": "text/x-python",
   "name": "python",
   "nbconvert_exporter": "python",
   "pygments_lexer": "ipython3",
   "version": "3.9.12"
  }
 },
 "nbformat": 4,
 "nbformat_minor": 5
}
