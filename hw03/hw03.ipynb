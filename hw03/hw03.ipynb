{
 "cells": [
  {
   "cell_type": "code",
   "execution_count": 1,
   "id": "db214507",
   "metadata": {
    "scrolled": true
   },
   "outputs": [],
   "source": [
    "#抓取原始碼\n",
    "import urllib.request as req\n",
    "url=\"https://www.ptt.cc/bbs/Baseball/index.html\"\n",
    "#放上網站headers:user-agent\n",
    "request=req.Request(url, headers={\n",
    "    \"User-Agent\": \"Mozilla/5.0 (Macintosh; Intel Mac OS X 10_15_7) AppleWebKit/537.36 (KHTML, like Gecko) Chrome/106.0.0.0 Safari/537.36\"\n",
    "})\n",
    "with req.urlopen(request) as response:\n",
    "    data=response.read().decode(\"utf_8\")"
   ]
  },
  {
   "cell_type": "code",
   "execution_count": 2,
   "id": "c47cc2d5",
   "metadata": {},
   "outputs": [
    {
     "name": "stdout",
     "output_type": "stream",
     "text": [
      "[情報] 韓職11/4先發(韓國大賽G3)\n",
      "[情報] WeAre FB\n",
      "[分享] 臺灣大賽，我們來了！兄弟官方影片\n",
      "[情報] 火腿測試U-23古巴投手\n",
      "[新聞] 傳葛里佛將任白襪新帥\n",
      "[新聞] MLB》當年曾和哈波起衝突 前終結者佩柏本：我想他會很感謝\n",
      "[新聞] McCullers遭五雷轟炸　費城人不透露是否破解動作\n",
      "[討論] 明年健康的喵龍邦三隊誰有機會進季後賽\n",
      "[新聞] 樂天桃猿首次台灣大賽 黃子鵬頂得住兄弟\n",
      "[新聞] 從頂級左投淪3年痛痛人 Sale不逃脫紅襪\n",
      "[分享] 談到跟西武交易 火腿GM稻葉：我們各取所需\n",
      "[新聞] MLB》投球動作被破解 太空人麥卡倫斯「\n",
      "[討論] Kevin Long是不是很有料\n",
      "[分享] 日本武士WBC強化試合 禁止大聲歡呼應援\n",
      "[分享] Bryan Rodriguez跟火腿隊簽約1年1億2000萬\n",
      "[新聞] 張育成宣布好消息！辣妻又懷孕了　二寶明\n",
      "[情報] 休士頓富商「床墊麥克」和費城球迷吵架\n",
      "[分享] 歷史上的今天-20TSG3 柯基，我的超人\n",
      "[問題] 華視的大聯盟轉播臉書頁被移除了?\n",
      "[公告] 板規\n",
      "[整理] 2022棒球賽事轉播節目表\n",
      "[公告] Baseball 板 開始舉辦樂透!\n"
     ]
    }
   ],
   "source": [
    "#抓取標題\n",
    "import bs4\n",
    "from bs4 import BeautifulSoup \n",
    "root=bs4.BeautifulSoup(data, \"html.parser\")\n",
    "titles=root.find_all(\"div\", class_=\"title\")\n",
    "\n",
    "for title in titles:\n",
    "    print(title.a.string)\n",
    "\n"
   ]
  },
  {
   "cell_type": "code",
   "execution_count": 3,
   "id": "f6c7e088",
   "metadata": {},
   "outputs": [],
   "source": [
    "#存取csv檔\n",
    "import csv\n",
    "\n",
    "with open(\"data.csv\",\"w\") as f:\n",
    "    writer=csv.writer(f)\n",
    "    writer.writerow([\"標題\"])\n",
    "    \n",
    "    for title in titles:\n",
    "        titles=(title.a.string)\n",
    "        writer.writerow([titles])"
   ]
  },
  {
   "cell_type": "code",
   "execution_count": 4,
   "id": "741bca08",
   "metadata": {},
   "outputs": [
    {
     "data": {
      "text/html": [
       "<div>\n",
       "<style scoped>\n",
       "    .dataframe tbody tr th:only-of-type {\n",
       "        vertical-align: middle;\n",
       "    }\n",
       "\n",
       "    .dataframe tbody tr th {\n",
       "        vertical-align: top;\n",
       "    }\n",
       "\n",
       "    .dataframe thead th {\n",
       "        text-align: right;\n",
       "    }\n",
       "</style>\n",
       "<table border=\"1\" class=\"dataframe\">\n",
       "  <thead>\n",
       "    <tr style=\"text-align: right;\">\n",
       "      <th></th>\n",
       "      <th>標題</th>\n",
       "    </tr>\n",
       "  </thead>\n",
       "  <tbody>\n",
       "    <tr>\n",
       "      <th>0</th>\n",
       "      <td>[情報] 韓職11/4先發(韓國大賽G3)</td>\n",
       "    </tr>\n",
       "    <tr>\n",
       "      <th>1</th>\n",
       "      <td>[情報] WeAre FB</td>\n",
       "    </tr>\n",
       "    <tr>\n",
       "      <th>2</th>\n",
       "      <td>[分享] 臺灣大賽，我們來了！兄弟官方影片</td>\n",
       "    </tr>\n",
       "    <tr>\n",
       "      <th>3</th>\n",
       "      <td>[情報] 火腿測試U-23古巴投手</td>\n",
       "    </tr>\n",
       "    <tr>\n",
       "      <th>4</th>\n",
       "      <td>[新聞] 傳葛里佛將任白襪新帥</td>\n",
       "    </tr>\n",
       "    <tr>\n",
       "      <th>5</th>\n",
       "      <td>[新聞] MLB》當年曾和哈波起衝突 前終結者佩柏本：我想他會很感謝</td>\n",
       "    </tr>\n",
       "    <tr>\n",
       "      <th>6</th>\n",
       "      <td>[新聞] McCullers遭五雷轟炸　費城人不透露是否破解動作</td>\n",
       "    </tr>\n",
       "    <tr>\n",
       "      <th>7</th>\n",
       "      <td>[討論] 明年健康的喵龍邦三隊誰有機會進季後賽</td>\n",
       "    </tr>\n",
       "    <tr>\n",
       "      <th>8</th>\n",
       "      <td>[新聞] 樂天桃猿首次台灣大賽 黃子鵬頂得住兄弟</td>\n",
       "    </tr>\n",
       "    <tr>\n",
       "      <th>9</th>\n",
       "      <td>[新聞] 從頂級左投淪3年痛痛人 Sale不逃脫紅襪</td>\n",
       "    </tr>\n",
       "    <tr>\n",
       "      <th>10</th>\n",
       "      <td>[分享] 談到跟西武交易 火腿GM稻葉：我們各取所需</td>\n",
       "    </tr>\n",
       "    <tr>\n",
       "      <th>11</th>\n",
       "      <td>[新聞] MLB》投球動作被破解 太空人麥卡倫斯「</td>\n",
       "    </tr>\n",
       "    <tr>\n",
       "      <th>12</th>\n",
       "      <td>[討論] Kevin Long是不是很有料</td>\n",
       "    </tr>\n",
       "    <tr>\n",
       "      <th>13</th>\n",
       "      <td>[分享] 日本武士WBC強化試合 禁止大聲歡呼應援</td>\n",
       "    </tr>\n",
       "    <tr>\n",
       "      <th>14</th>\n",
       "      <td>[分享] Bryan Rodriguez跟火腿隊簽約1年1億2000萬</td>\n",
       "    </tr>\n",
       "    <tr>\n",
       "      <th>15</th>\n",
       "      <td>[新聞] 張育成宣布好消息！辣妻又懷孕了　二寶明</td>\n",
       "    </tr>\n",
       "    <tr>\n",
       "      <th>16</th>\n",
       "      <td>[情報] 休士頓富商「床墊麥克」和費城球迷吵架</td>\n",
       "    </tr>\n",
       "    <tr>\n",
       "      <th>17</th>\n",
       "      <td>[分享] 歷史上的今天-20TSG3 柯基，我的超人</td>\n",
       "    </tr>\n",
       "    <tr>\n",
       "      <th>18</th>\n",
       "      <td>[問題] 華視的大聯盟轉播臉書頁被移除了?</td>\n",
       "    </tr>\n",
       "    <tr>\n",
       "      <th>19</th>\n",
       "      <td>[公告] 板規</td>\n",
       "    </tr>\n",
       "    <tr>\n",
       "      <th>20</th>\n",
       "      <td>[整理] 2022棒球賽事轉播節目表</td>\n",
       "    </tr>\n",
       "    <tr>\n",
       "      <th>21</th>\n",
       "      <td>[公告] Baseball 板 開始舉辦樂透!</td>\n",
       "    </tr>\n",
       "  </tbody>\n",
       "</table>\n",
       "</div>"
      ],
      "text/plain": [
       "                                     標題\n",
       "0                 [情報] 韓職11/4先發(韓國大賽G3)\n",
       "1                         [情報] WeAre FB\n",
       "2                 [分享] 臺灣大賽，我們來了！兄弟官方影片\n",
       "3                     [情報] 火腿測試U-23古巴投手\n",
       "4                       [新聞] 傳葛里佛將任白襪新帥\n",
       "5    [新聞] MLB》當年曾和哈波起衝突 前終結者佩柏本：我想他會很感謝\n",
       "6      [新聞] McCullers遭五雷轟炸　費城人不透露是否破解動作\n",
       "7               [討論] 明年健康的喵龍邦三隊誰有機會進季後賽\n",
       "8              [新聞] 樂天桃猿首次台灣大賽 黃子鵬頂得住兄弟\n",
       "9            [新聞] 從頂級左投淪3年痛痛人 Sale不逃脫紅襪\n",
       "10           [分享] 談到跟西武交易 火腿GM稻葉：我們各取所需\n",
       "11            [新聞] MLB》投球動作被破解 太空人麥卡倫斯「\n",
       "12                [討論] Kevin Long是不是很有料\n",
       "13            [分享] 日本武士WBC強化試合 禁止大聲歡呼應援\n",
       "14  [分享] Bryan Rodriguez跟火腿隊簽約1年1億2000萬\n",
       "15             [新聞] 張育成宣布好消息！辣妻又懷孕了　二寶明\n",
       "16              [情報] 休士頓富商「床墊麥克」和費城球迷吵架\n",
       "17           [分享] 歷史上的今天-20TSG3 柯基，我的超人\n",
       "18                [問題] 華視的大聯盟轉播臉書頁被移除了?\n",
       "19                              [公告] 板規\n",
       "20                   [整理] 2022棒球賽事轉播節目表\n",
       "21              [公告] Baseball 板 開始舉辦樂透!"
      ]
     },
     "execution_count": 4,
     "metadata": {},
     "output_type": "execute_result"
    }
   ],
   "source": [
    "#呼叫csv\n",
    "import pandas as pd\n",
    "data1=pd.read_csv(\"data.csv\")\n",
    "data1"
   ]
  },
  {
   "cell_type": "code",
   "execution_count": 5,
   "id": "26bcaa9f",
   "metadata": {},
   "outputs": [],
   "source": [
    "#存成json檔\n",
    "import json"
   ]
  },
  {
   "cell_type": "code",
   "execution_count": 6,
   "id": "bcc3946d",
   "metadata": {},
   "outputs": [
    {
     "name": "stdout",
     "output_type": "stream",
     "text": [
      "[{\"標題\":\"[情報] 韓職11\\/4先發(韓國大賽G3)\"},{\"標題\":\"[情報] WeAre FB\"},{\"標題\":\"[分享] 臺灣大賽，我們來了！兄弟官方影片\"},{\"標題\":\"[情報] 火腿測試U-23古巴投手\"},{\"標題\":\"[新聞] 傳葛里佛將任白襪新帥\"},{\"標題\":\"[新聞] MLB》當年曾和哈波起衝突 前終結者佩柏本：我想他會很感謝\"},{\"標題\":\"[新聞] McCullers遭五雷轟炸　費城人不透露是否破解動作\"},{\"標題\":\"[討論] 明年健康的喵龍邦三隊誰有機會進季後賽\"},{\"標題\":\"[新聞] 樂天桃猿首次台灣大賽 黃子鵬頂得住兄弟\"},{\"標題\":\"[新聞] 從頂級左投淪3年痛痛人 Sale不逃脫紅襪\"},{\"標題\":\"[分享] 談到跟西武交易 火腿GM稻葉：我們各取所需\"},{\"標題\":\"[新聞] MLB》投球動作被破解 太空人麥卡倫斯「\"},{\"標題\":\"[討論] Kevin Long是不是很有料\"},{\"標題\":\"[分享] 日本武士WBC強化試合 禁止大聲歡呼應援\"},{\"標題\":\"[分享] Bryan Rodriguez跟火腿隊簽約1年1億2000萬\"},{\"標題\":\"[新聞] 張育成宣布好消息！辣妻又懷孕了　二寶明\"},{\"標題\":\"[情報] 休士頓富商「床墊麥克」和費城球迷吵架\"},{\"標題\":\"[分享] 歷史上的今天-20TSG3 柯基，我的超人\"},{\"標題\":\"[問題] 華視的大聯盟轉播臉書頁被移除了?\"},{\"標題\":\"[公告] 板規\"},{\"標題\":\"[整理] 2022棒球賽事轉播節目表\"},{\"標題\":\"[公告] Baseball 板 開始舉辦樂透!\"}]\n"
     ]
    }
   ],
   "source": [
    "#用標題分類\n",
    "datajson = data1.to_json(orient='records', force_ascii=False)\n",
    "print(datajson)"
   ]
  },
  {
   "cell_type": "code",
   "execution_count": null,
   "id": "2676a141",
   "metadata": {},
   "outputs": [],
   "source": []
  }
 ],
 "metadata": {
  "kernelspec": {
   "display_name": "Python 3 (ipykernel)",
   "language": "python",
   "name": "python3"
  },
  "language_info": {
   "codemirror_mode": {
    "name": "ipython",
    "version": 3
   },
   "file_extension": ".py",
   "mimetype": "text/x-python",
   "name": "python",
   "nbconvert_exporter": "python",
   "pygments_lexer": "ipython3",
   "version": "3.9.12"
  }
 },
 "nbformat": 4,
 "nbformat_minor": 5
}
