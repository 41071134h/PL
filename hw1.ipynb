{
 "cells": [
  {
   "cell_type": "code",
   "execution_count": 2,
   "id": "029d76a0",
   "metadata": {},
   "outputs": [
    {
     "data": {
      "text/html": [
       "<div>\n",
       "<style scoped>\n",
       "    .dataframe tbody tr th:only-of-type {\n",
       "        vertical-align: middle;\n",
       "    }\n",
       "\n",
       "    .dataframe tbody tr th {\n",
       "        vertical-align: top;\n",
       "    }\n",
       "\n",
       "    .dataframe thead th {\n",
       "        text-align: right;\n",
       "    }\n",
       "</style>\n",
       "<table border=\"1\" class=\"dataframe\">\n",
       "  <thead>\n",
       "    <tr style=\"text-align: right;\">\n",
       "      <th></th>\n",
       "      <th>#</th>\n",
       "      <th>PLAYER</th>\n",
       "      <th>GP</th>\n",
       "      <th>MIN</th>\n",
       "      <th>PTS</th>\n",
       "      <th>FGM</th>\n",
       "      <th>REB</th>\n",
       "      <th>AST</th>\n",
       "    </tr>\n",
       "  </thead>\n",
       "  <tbody>\n",
       "    <tr>\n",
       "      <th>0</th>\n",
       "      <td>1</td>\n",
       "      <td>Kareem Abdul-Jabbar</td>\n",
       "      <td>1,560</td>\n",
       "      <td>57446</td>\n",
       "      <td>38387</td>\n",
       "      <td>15837</td>\n",
       "      <td>17440</td>\n",
       "      <td>5660</td>\n",
       "    </tr>\n",
       "    <tr>\n",
       "      <th>1</th>\n",
       "      <td>2</td>\n",
       "      <td>LeBron James</td>\n",
       "      <td>1,366</td>\n",
       "      <td>52138</td>\n",
       "      <td>37062</td>\n",
       "      <td>13543</td>\n",
       "      <td>10210</td>\n",
       "      <td>10045</td>\n",
       "    </tr>\n",
       "    <tr>\n",
       "      <th>2</th>\n",
       "      <td>3</td>\n",
       "      <td>Karl Malone</td>\n",
       "      <td>1,476</td>\n",
       "      <td>54852</td>\n",
       "      <td>36928</td>\n",
       "      <td>13528</td>\n",
       "      <td>14968</td>\n",
       "      <td>5248</td>\n",
       "    </tr>\n",
       "    <tr>\n",
       "      <th>3</th>\n",
       "      <td>4</td>\n",
       "      <td>Kobe Bryant</td>\n",
       "      <td>1,346</td>\n",
       "      <td>48643</td>\n",
       "      <td>33643</td>\n",
       "      <td>11719</td>\n",
       "      <td>7047</td>\n",
       "      <td>6306</td>\n",
       "    </tr>\n",
       "    <tr>\n",
       "      <th>4</th>\n",
       "      <td>5</td>\n",
       "      <td>Michael Jordan</td>\n",
       "      <td>1,072</td>\n",
       "      <td>41010</td>\n",
       "      <td>32292</td>\n",
       "      <td>12192</td>\n",
       "      <td>6672</td>\n",
       "      <td>5633</td>\n",
       "    </tr>\n",
       "    <tr>\n",
       "      <th>5</th>\n",
       "      <td>6</td>\n",
       "      <td>Dirk Nowitzki</td>\n",
       "      <td>1,522</td>\n",
       "      <td>51367</td>\n",
       "      <td>31560</td>\n",
       "      <td>11169</td>\n",
       "      <td>11489</td>\n",
       "      <td>3651</td>\n",
       "    </tr>\n",
       "    <tr>\n",
       "      <th>6</th>\n",
       "      <td>7</td>\n",
       "      <td>Wilt Chamberlain</td>\n",
       "      <td>1,045</td>\n",
       "      <td>47859</td>\n",
       "      <td>31419</td>\n",
       "      <td>12681</td>\n",
       "      <td>23924</td>\n",
       "      <td>4643</td>\n",
       "    </tr>\n",
       "    <tr>\n",
       "      <th>7</th>\n",
       "      <td>8</td>\n",
       "      <td>Shaquille O’Neal</td>\n",
       "      <td>1,207</td>\n",
       "      <td>41917</td>\n",
       "      <td>28596</td>\n",
       "      <td>11330</td>\n",
       "      <td>13099</td>\n",
       "      <td>3026</td>\n",
       "    </tr>\n",
       "    <tr>\n",
       "      <th>8</th>\n",
       "      <td>9</td>\n",
       "      <td>Carmelo Anthony</td>\n",
       "      <td>1,260</td>\n",
       "      <td>43513</td>\n",
       "      <td>28289</td>\n",
       "      <td>10119</td>\n",
       "      <td>7808</td>\n",
       "      <td>3422</td>\n",
       "    </tr>\n",
       "    <tr>\n",
       "      <th>9</th>\n",
       "      <td>10</td>\n",
       "      <td>Moses Malone</td>\n",
       "      <td>1,329</td>\n",
       "      <td>45071</td>\n",
       "      <td>27409</td>\n",
       "      <td>9435</td>\n",
       "      <td>16212</td>\n",
       "      <td>1796</td>\n",
       "    </tr>\n",
       "  </tbody>\n",
       "</table>\n",
       "</div>"
      ],
      "text/plain": [
       "    #               PLAYER     GP    MIN    PTS    FGM    REB    AST\n",
       "0   1  Kareem Abdul-Jabbar  1,560  57446  38387  15837  17440   5660\n",
       "1   2         LeBron James  1,366  52138  37062  13543  10210  10045\n",
       "2   3          Karl Malone  1,476  54852  36928  13528  14968   5248\n",
       "3   4          Kobe Bryant  1,346  48643  33643  11719   7047   6306\n",
       "4   5       Michael Jordan  1,072  41010  32292  12192   6672   5633\n",
       "5   6        Dirk Nowitzki  1,522  51367  31560  11169  11489   3651\n",
       "6   7     Wilt Chamberlain  1,045  47859  31419  12681  23924   4643\n",
       "7   8     Shaquille O’Neal  1,207  41917  28596  11330  13099   3026\n",
       "8   9      Carmelo Anthony  1,260  43513  28289  10119   7808   3422\n",
       "9  10         Moses Malone  1,329  45071  27409   9435  16212   1796"
      ]
     },
     "execution_count": 2,
     "metadata": {},
     "output_type": "execute_result"
    }
   ],
   "source": [
    "#匯入csv\n",
    "#NBA得分最高 top10\n",
    "import pandas as pd\n",
    "\n",
    "data1 = pd.read_csv(\"data01.csv\")\n",
    "data1"
   ]
  },
  {
   "cell_type": "code",
   "execution_count": 3,
   "id": "b755368c",
   "metadata": {},
   "outputs": [
    {
     "data": {
      "text/html": [
       "<div>\n",
       "<style scoped>\n",
       "    .dataframe tbody tr th:only-of-type {\n",
       "        vertical-align: middle;\n",
       "    }\n",
       "\n",
       "    .dataframe tbody tr th {\n",
       "        vertical-align: top;\n",
       "    }\n",
       "\n",
       "    .dataframe thead th {\n",
       "        text-align: right;\n",
       "    }\n",
       "</style>\n",
       "<table border=\"1\" class=\"dataframe\">\n",
       "  <thead>\n",
       "    <tr style=\"text-align: right;\">\n",
       "      <th></th>\n",
       "      <th>#</th>\n",
       "      <th>PLAYER</th>\n",
       "    </tr>\n",
       "  </thead>\n",
       "  <tbody>\n",
       "    <tr>\n",
       "      <th>0</th>\n",
       "      <td>1.0</td>\n",
       "      <td>Michael Jordan</td>\n",
       "    </tr>\n",
       "    <tr>\n",
       "      <th>1</th>\n",
       "      <td>2.0</td>\n",
       "      <td>LeBron James</td>\n",
       "    </tr>\n",
       "    <tr>\n",
       "      <th>2</th>\n",
       "      <td>3.0</td>\n",
       "      <td>Kareem Abdul-Jabbar</td>\n",
       "    </tr>\n",
       "    <tr>\n",
       "      <th>3</th>\n",
       "      <td>4.0</td>\n",
       "      <td>Bill Russell</td>\n",
       "    </tr>\n",
       "    <tr>\n",
       "      <th>4</th>\n",
       "      <td>5.0</td>\n",
       "      <td>Magic Johnson</td>\n",
       "    </tr>\n",
       "    <tr>\n",
       "      <th>5</th>\n",
       "      <td>6.0</td>\n",
       "      <td>Wilt Chamberlain</td>\n",
       "    </tr>\n",
       "    <tr>\n",
       "      <th>6</th>\n",
       "      <td>7.0</td>\n",
       "      <td>Larry Bird</td>\n",
       "    </tr>\n",
       "    <tr>\n",
       "      <th>7</th>\n",
       "      <td>8.0</td>\n",
       "      <td>Shaquille O’Neal</td>\n",
       "    </tr>\n",
       "    <tr>\n",
       "      <th>8</th>\n",
       "      <td>9.0</td>\n",
       "      <td>Tim Duncan</td>\n",
       "    </tr>\n",
       "    <tr>\n",
       "      <th>9</th>\n",
       "      <td>10.0</td>\n",
       "      <td>Kobe Bryant</td>\n",
       "    </tr>\n",
       "    <tr>\n",
       "      <th>10</th>\n",
       "      <td>NaN</td>\n",
       "      <td>NaN</td>\n",
       "    </tr>\n",
       "  </tbody>\n",
       "</table>\n",
       "</div>"
      ],
      "text/plain": [
       "       #               PLAYER\n",
       "0    1.0       Michael Jordan\n",
       "1    2.0         LeBron James\n",
       "2    3.0  Kareem Abdul-Jabbar\n",
       "3    4.0         Bill Russell\n",
       "4    5.0        Magic Johnson\n",
       "5    6.0     Wilt Chamberlain\n",
       "6    7.0           Larry Bird\n",
       "7    8.0     Shaquille O’Neal\n",
       "8    9.0           Tim Duncan\n",
       "9   10.0          Kobe Bryant\n",
       "10   NaN                  NaN"
      ]
     },
     "execution_count": 3,
     "metadata": {},
     "output_type": "execute_result"
    }
   ],
   "source": [
    "#LeBron James認為歷史 top10\n",
    "data2 = pd.read_csv(\"data02.csv\")\n",
    "data2"
   ]
  },
  {
   "cell_type": "code",
   "execution_count": 4,
   "id": "0fe1f4a3",
   "metadata": {},
   "outputs": [],
   "source": [
    "#列出子集合\n",
    "set_data1 = set(data1[\"PLAYER\"])\n",
    "set_data2 = set(data2[\"PLAYER\"])"
   ]
  },
  {
   "cell_type": "code",
   "execution_count": 5,
   "id": "8c76064e",
   "metadata": {},
   "outputs": [
    {
     "data": {
      "text/plain": [
       "{'Carmelo Anthony',\n",
       " 'Dirk Nowitzki',\n",
       " 'Kareem Abdul-Jabbar',\n",
       " 'Karl Malone',\n",
       " 'Kobe Bryant',\n",
       " 'LeBron James',\n",
       " 'Michael Jordan',\n",
       " 'Moses Malone',\n",
       " 'Shaquille O’Neal',\n",
       " 'Wilt Chamberlain'}"
      ]
     },
     "execution_count": 5,
     "metadata": {},
     "output_type": "execute_result"
    }
   ],
   "source": [
    "set_data1"
   ]
  },
  {
   "cell_type": "code",
   "execution_count": 6,
   "id": "3fc0dcde",
   "metadata": {},
   "outputs": [
    {
     "data": {
      "text/plain": [
       "{'Bill Russell',\n",
       " 'Kareem Abdul-Jabbar',\n",
       " 'Kobe Bryant',\n",
       " 'Larry Bird',\n",
       " 'LeBron James',\n",
       " 'Magic Johnson',\n",
       " 'Michael Jordan',\n",
       " 'Shaquille O’Neal',\n",
       " 'Tim Duncan',\n",
       " 'Wilt Chamberlain',\n",
       " nan}"
      ]
     },
     "execution_count": 6,
     "metadata": {},
     "output_type": "execute_result"
    }
   ],
   "source": [
    "set_data2"
   ]
  },
  {
   "cell_type": "code",
   "execution_count": 7,
   "id": "4e28fed7",
   "metadata": {},
   "outputs": [
    {
     "data": {
      "text/plain": [
       "{'Bill Russell',\n",
       " 'Carmelo Anthony',\n",
       " 'Dirk Nowitzki',\n",
       " 'Kareem Abdul-Jabbar',\n",
       " 'Karl Malone',\n",
       " 'Kobe Bryant',\n",
       " 'Larry Bird',\n",
       " 'LeBron James',\n",
       " 'Magic Johnson',\n",
       " 'Michael Jordan',\n",
       " 'Moses Malone',\n",
       " 'Shaquille O’Neal',\n",
       " 'Tim Duncan',\n",
       " 'Wilt Chamberlain',\n",
       " nan}"
      ]
     },
     "execution_count": 7,
     "metadata": {},
     "output_type": "execute_result"
    }
   ],
   "source": [
    "# 聯集\n",
    "(set_data1 | set_data2)"
   ]
  },
  {
   "cell_type": "code",
   "execution_count": 8,
   "id": "4dee964f",
   "metadata": {},
   "outputs": [
    {
     "data": {
      "text/plain": [
       "{'Kareem Abdul-Jabbar',\n",
       " 'Kobe Bryant',\n",
       " 'LeBron James',\n",
       " 'Michael Jordan',\n",
       " 'Shaquille O’Neal',\n",
       " 'Wilt Chamberlain'}"
      ]
     },
     "execution_count": 8,
     "metadata": {},
     "output_type": "execute_result"
    }
   ],
   "source": [
    "# 交集\n",
    "(set_data1 & set_data2)"
   ]
  },
  {
   "cell_type": "code",
   "execution_count": 9,
   "id": "4ec0fc44",
   "metadata": {},
   "outputs": [
    {
     "data": {
      "text/plain": [
       "{'Carmelo Anthony', 'Dirk Nowitzki', 'Karl Malone', 'Moses Malone'}"
      ]
     },
     "execution_count": 9,
     "metadata": {},
     "output_type": "execute_result"
    }
   ],
   "source": [
    "# 差集\n",
    "#得分前10卻沒又在LeBron James的top10名單中\n",
    "set_data1 - (set_data1 & set_data2)"
   ]
  },
  {
   "cell_type": "code",
   "execution_count": 10,
   "id": "8f7ff883",
   "metadata": {},
   "outputs": [
    {
     "data": {
      "text/plain": [
       "{'Bill Russell',\n",
       " 'Carmelo Anthony',\n",
       " 'Dirk Nowitzki',\n",
       " 'Karl Malone',\n",
       " 'Larry Bird',\n",
       " 'Magic Johnson',\n",
       " 'Moses Malone',\n",
       " 'Tim Duncan',\n",
       " nan}"
      ]
     },
     "execution_count": 10,
     "metadata": {},
     "output_type": "execute_result"
    }
   ],
   "source": [
    "# 對稱差集\n",
    "#只有在得分前10或只有在LeBron James的top10名單中\n",
    "(set_data1 | set_data2) - (set_data1 & set_data2) "
   ]
  },
  {
   "cell_type": "code",
   "execution_count": null,
   "id": "56d705e3",
   "metadata": {},
   "outputs": [],
   "source": []
  }
 ],
 "metadata": {
  "kernelspec": {
   "display_name": "Python 3 (ipykernel)",
   "language": "python",
   "name": "python3"
  },
  "language_info": {
   "codemirror_mode": {
    "name": "ipython",
    "version": 3
   },
   "file_extension": ".py",
   "mimetype": "text/x-python",
   "name": "python",
   "nbconvert_exporter": "python",
   "pygments_lexer": "ipython3",
   "version": "3.9.12"
  }
 },
 "nbformat": 4,
 "nbformat_minor": 5
}
